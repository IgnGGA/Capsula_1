{
  "nbformat": 4,
  "nbformat_minor": 0,
  "metadata": {
    "colab": {
      "provenance": []
    },
    "kernelspec": {
      "name": "python3",
      "display_name": "Python 3"
    },
    "language_info": {
      "name": "python"
    }
  },
  "cells": [
    {
      "cell_type": "markdown",
      "source": [
        "#Cápsula 1 - Entendamos los Datos\n",
        "###Estadística Descriptiva\n",
        "Taller 1 - Ejercicio 1"
      ],
      "metadata": {
        "id": "1JuMF10R13tO"
      }
    },
    {
      "cell_type": "markdown",
      "source": [
        "Importe el archivo \"Base_taller_semana1\" y desarrolle el ejercicio\n",
        "Las variables del set de datos son los siguientes:\n",
        "\n",
        "\n",
        "*   Edad: edad del cliente en años cumplidos\n",
        "*   Sexo: 0 es mujer y 1 es hombre\n",
        "*   Sucursal: son 4 sucursales A, B, C, D\n",
        "*   Ingreso_Anual: ingreso de los clientes en miles de pesos.\n",
        "*   Casado: estado civil del cliente, 1 si es casado, 0 si es soltero\n",
        "*   Hijos: cantidad de hijos\n",
        "\n",
        "*   Bienes: Identifica si el cliente tiene bienes materiales (SI, NO)\n",
        "*   Tarjeta: Identifica si el cliente tiene tarjeta de crédito\n",
        "*   Crédito: Identifica si el cliente tiene un crédito\n",
        "*   Solicitud: Identifica si el cliente tiene una solicitud de un nuevo crédito\n",
        "\n",
        "\n",
        "\n",
        "\n",
        "\n",
        "\n",
        "\n",
        "\n",
        "\n",
        "\n",
        "\n",
        "\n"
      ],
      "metadata": {
        "id": "soJDSzhw2HfE"
      }
    },
    {
      "cell_type": "code",
      "source": [],
      "metadata": {
        "id": "AykgTFhohoPp"
      },
      "execution_count": null,
      "outputs": []
    },
    {
      "cell_type": "markdown",
      "source": [
        "1. Muestre la distribución de ingresos de los clientes en un gráfico"
      ],
      "metadata": {
        "id": "lepnjgA14763"
      }
    },
    {
      "cell_type": "code",
      "source": [],
      "metadata": {
        "id": "6VzVjwiChueB"
      },
      "execution_count": null,
      "outputs": []
    },
    {
      "cell_type": "markdown",
      "source": [
        "2. Obtenga el Ingreso promedio por sexo, desviación estándar y coeficiente de variabilidad\n"
      ],
      "metadata": {
        "id": "E3M-vgV_5Kyj"
      }
    },
    {
      "cell_type": "code",
      "source": [],
      "metadata": {
        "id": "ga6qfjFuhwbi"
      },
      "execution_count": null,
      "outputs": []
    },
    {
      "cell_type": "markdown",
      "source": [
        "3. Obtenga la distribución del ingreso según sexo a través de un gráfico de cajas, histograma y violín."
      ],
      "metadata": {
        "id": "XUL-yYyS5XUF"
      }
    },
    {
      "cell_type": "code",
      "source": [],
      "metadata": {
        "id": "c-46E7hvh0ZM"
      },
      "execution_count": null,
      "outputs": []
    }
  ]
}